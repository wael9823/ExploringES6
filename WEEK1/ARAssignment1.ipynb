{
  "nbformat": 4,
  "nbformat_minor": 0,
  "metadata": {
    "colab": {
      "name": "ARAssignment1.ipynb",
      "provenance": [],
      "collapsed_sections": [],
      "authorship_tag": "ABX9TyMVOCdHvE1Foy9DlodRhoAV",
      "include_colab_link": true
    },
    "kernelspec": {
      "name": "python3",
      "display_name": "Python 3"
    },
    "language_info": {
      "name": "python"
    }
  },
  "cells": [
    {
      "cell_type": "markdown",
      "metadata": {
        "id": "view-in-github",
        "colab_type": "text"
      },
      "source": [
        "<a href=\"https://colab.research.google.com/github/wael9823/ExploringES6/blob/master/WEEK1/ARAssignment1.ipynb\" target=\"_parent\"><img src=\"https://colab.research.google.com/assets/colab-badge.svg\" alt=\"Open In Colab\"/></a>"
      ]
    },
    {
      "cell_type": "code",
      "metadata": {
        "id": "uSW4Cb1c6NJo"
      },
      "source": [
        "import numpy as np\n",
        "import matplotlib.pyplot as plt"
      ],
      "execution_count": null,
      "outputs": []
    },
    {
      "cell_type": "code",
      "metadata": {
        "id": "lT2nlz5f6Zfq"
      },
      "source": [
        "def transformPoint (xycord,XYcord,theta=0):\n",
        "  linear = np.array(xycord) - np.array(XYcord)\n",
        "  angleInRadians = np.radians(np.array(theta))\n",
        "  x_dash = (linear[0]*np.cos(angleInRadians)) + (linear[1]*np.sin(angleInRadians))\n",
        "  y_dash = (-linear[0]*np.sin(angleInRadians)) + (linear[1]*np.cos(angleInRadians))\n",
        "  return x_dash,y_dash"
      ],
      "execution_count": null,
      "outputs": []
    },
    {
      "cell_type": "code",
      "metadata": {
        "id": "_TR7383V6dMn"
      },
      "source": [
        "def reverseTransformPoint (XYcord,xycord,theta=0):\n",
        "  linear = np.array(XYcord)\n",
        "  angleInRadians = np.radians(np.array(theta))\n",
        "  x_dash = (linear[0]*np.cos(angleInRadians)) - (linear[1]*np.sin(angleInRadians))\n",
        "  y_dash = (linear[0]*np.sin(angleInRadians)) + (linear[1]*np.cos(angleInRadians))\n",
        "  oldx = x_dash + xycord[0]\n",
        "  oldy = y_dash + xycord[1]\n",
        "  return oldx,oldy"
      ],
      "execution_count": null,
      "outputs": []
    },
    {
      "cell_type": "code",
      "metadata": {
        "id": "mFuHbTZC6d_n"
      },
      "source": [
        "def plotAxis(xycord,XYcord=0,theta=0):\n",
        "  fig = plt.figure()\n",
        "  \n",
        "  axesMain = fig.add_axes([0, 0, 1, 1])\n",
        "  axesMain.set_ylim([0, 10])\n",
        "  axesMain.set_xlim([0, 10])\n",
        "  axesMain.set_xlabel('x - axis') \n",
        "  axesMain.set_ylabel('y - axis')\n",
        "  axesMain.set_title('World Frame')\n",
        "  axesMain.spines['right'].set_color('none')\n",
        "  axesMain.spines['top'].set_color('none')\n",
        "  pos = axesMain.get_position()\n",
        "  \n",
        "  xvalues_yaxis = []\n",
        "  yvalues_yaxis = []\n",
        "  xvalues_xaxis = []\n",
        "  yvalues_xaxis = []\n",
        "  for i in range(10):\n",
        "    x1,y1 = reverseTransformPoint([0,i],[XYcord[0],XYcord[1]],theta)\n",
        "    xvalues_yaxis.append(x1)\n",
        "    yvalues_yaxis.append(y1)\n",
        "    x2,y2 = reverseTransformPoint([i,0],[XYcord[0],XYcord[1]],theta)\n",
        "    xvalues_xaxis.append(x2)\n",
        "    yvalues_xaxis.append(y2)\n",
        "\n",
        "  plt.plot(xvalues_yaxis,yvalues_yaxis,'r-o', label = \"Y' axis\")\n",
        "  plt.plot(xvalues_xaxis,yvalues_xaxis, 'r*-', label = \"X' axis\")\n",
        "  plt.legend()\n",
        "  x,y = xycord\n",
        "  plt.text(x,y,'('+str(transformPoint([xycord[0],xycord[1]],[XYcord[0],XYcord[1]],theta))+')', fontsize=10)\n",
        "  plt.scatter(x,y)\n",
        "  #return fig"
      ],
      "execution_count": null,
      "outputs": []
    },
    {
      "cell_type": "code",
      "metadata": {
        "colab": {
          "base_uri": "https://localhost:8080/",
          "height": 468
        },
        "id": "Q7kGnbXr-mWs",
        "outputId": "8c72851c-89bc-4297-afb4-98d3f8658eab"
      },
      "source": [
        "x1,y1 = int(input(\"Enter the point on original coordinate frame \")), int(input())\n",
        "x2,y2 = int(input(\"Enter the new origin of the translated frame \")), int(input())\n",
        "theta = int(input(\"Enter the angle of rotation for the new frame \"))\n",
        "result = transformPoint([x1,y1],[x2,y2],theta)\n",
        "print(\"Value of coordinates in new frame is \" + str(result))\n",
        "reverseTransformPoint(result,[x2,y2],theta)\n",
        "plotAxis([x1,y1],[x2,y2],theta)"
      ],
      "execution_count": null,
      "outputs": [
        {
          "output_type": "stream",
          "text": [
            "Enter the point on original coordinate frame 1\n",
            "6\n",
            "Enter the new origin of the translated frame 1\n",
            "1\n",
            "Enter the angle of rotation for the new frame 30\n",
            "Value of coordinates in new frame is (2.4999999999999996, 4.330127018922194)\n"
          ],
          "name": "stdout"
        },
        {
          "output_type": "display_data",
          "data": {
            "image/png": "[encoded data removed]",
            "text/plain": [
              "<Figure size 432x288 with 1 Axes>"
            ]
          },
          "metadata": {
            "tags": [],
            "needs_background": "light"
          }
        }
      ]
    }
  ]
}